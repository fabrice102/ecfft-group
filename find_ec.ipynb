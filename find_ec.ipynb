{
 "cells": [
  {
   "cell_type": "code",
   "execution_count": 15,
   "id": "870b0d9e",
   "metadata": {},
   "outputs": [],
   "source": [
    "# Find an elliptic curve whose order is divisible by 2^k over F_p\n",
    "# Sagemath Jupyter Notebook\n",
    "\n",
    "p = 2^252 + 27742317777372353535851937790883648493 # order of the scalar group of ED25519\n",
    "k = 7\n",
    "K = 2^k"
   ]
  },
  {
   "cell_type": "code",
   "execution_count": 16,
   "id": "9b33451b",
   "metadata": {},
   "outputs": [
    {
     "data": {
      "text/plain": [
       "True"
      ]
     },
     "execution_count": 16,
     "metadata": {},
     "output_type": "execute_result"
    }
   ],
   "source": [
    "is_prime(p)"
   ]
  },
  {
   "cell_type": "code",
   "execution_count": 17,
   "id": "a1f33e80",
   "metadata": {},
   "outputs": [
    {
     "name": "stdout",
     "output_type": "stream",
     "text": [
      "1\n",
      "1\n",
      "8\n",
      "2\n",
      "1\n",
      "4\n",
      "1\n",
      "1\n",
      "8\n",
      "64\n",
      "1\n",
      "4\n",
      "1\n",
      "2\n",
      "8\n",
      "4\n",
      "4\n",
      "2\n",
      "1\n",
      "8\n",
      "1\n",
      "1\n",
      "4\n",
      "2\n",
      "4\n",
      "1\n",
      "2\n",
      "8\n",
      "2\n",
      "2\n",
      "2\n",
      "4\n",
      "2\n",
      "2\n",
      "1\n",
      "1\n",
      "16\n",
      "1\n",
      "1\n",
      "4\n",
      "512\n",
      "3645472517264334957091058552764045892926542619080844133306833888093507100669 1339909309023369430236484237929382432647807696492801067834003624379332638825\n"
     ]
    }
   ],
   "source": [
    "F = GF(p)\n",
    "while True:\n",
    "    a = F.random_element()\n",
    "    b = F.random_element()\n",
    "    E = EllipticCurve(F, [a, b])\n",
    "    O = E.order()\n",
    "    nn = O.p_primary_part(2)\n",
    "    print(nn)\n",
    "    if nn >= K:\n",
    "        print(a, b)\n",
    "        break"
   ]
  },
  {
   "cell_type": "code",
   "execution_count": 9,
   "id": "08f93494",
   "metadata": {},
   "outputs": [
    {
     "data": {
      "text/plain": [
       "<function numerical_approx at 0x10b9e9ab0>"
      ]
     },
     "execution_count": 9,
     "metadata": {},
     "output_type": "execute_result"
    }
   ],
   "source": []
  },
  {
   "cell_type": "code",
   "execution_count": null,
   "id": "bde7ffa3",
   "metadata": {},
   "outputs": [],
   "source": []
  }
 ],
 "metadata": {
  "kernelspec": {
   "display_name": "SageMath 9.6",
   "language": "sage",
   "name": "sagemath-9.6"
  },
  "language_info": {
   "codemirror_mode": {
    "name": "ipython",
    "version": 3
   },
   "file_extension": ".py",
   "mimetype": "text/x-python",
   "name": "python",
   "nbconvert_exporter": "python",
   "pygments_lexer": "ipython3",
   "version": "3.10.3"
  }
 },
 "nbformat": 4,
 "nbformat_minor": 5
}
