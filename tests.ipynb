{
 "cells": [
  {
   "cell_type": "markdown",
   "id": "c9399c1d",
   "metadata": {},
   "source": [
    "# Tests\n",
    "\n",
    "This notebook is used to generate tests for the Rust code."
   ]
  },
  {
   "cell_type": "markdown",
   "id": "9530523b",
   "metadata": {},
   "source": [
    "## Extended Vandermonde\n",
    "\n",
    "See Rust code src/vandermonde.rs"
   ]
  },
  {
   "cell_type": "code",
   "execution_count": 12,
   "id": "02ba6d76",
   "metadata": {},
   "outputs": [
    {
     "name": "stdout",
     "output_type": "stream",
     "text": [
      "    #[test_case(vec ! [3], vec ! [10], vec ! [10, 13])]\n",
      "    #[test_case(vec ! [16], vec ! [16], vec ! [16])]\n",
      "    #[test_case(vec ! [1, 0], vec ! [2, 9], vec ! [11, 2, 2])]\n",
      "    #[test_case(vec ! [10, 16], vec ! [4, 10], vec ! [14, 13, 2, 12])]\n",
      "    #[test_case(vec ! [5, 16, 2, 5, 14], vec ! [14, 1, 14, 3, 14], vec ! [12, 2])]\n",
      "    #[test_case(vec ! [2, 8, 4, 4, 6], vec ! [12, 14, 3, 13, 10], vec ! [1, 5, 13])]\n",
      "\n",
      "    #[test_case(vec ! [2], vec ! [2])]\n",
      "    #[test_case(vec ! [14], vec ! [14, 0])]\n",
      "    #[test_case(vec ! [0], vec ! [0, 0, 0, 0, 0])]\n",
      "    #[test_case(vec ! [15, 11], vec ! [9])]\n",
      "    #[test_case(vec ! [10, 16], vec ! [9, 16, 16, 16, 16])]\n",
      "    #[test_case(vec ! [2, 9, 4], vec ! [15, 2, 6, 2, 6])]\n",
      "    #[test_case(vec ! [10, 14, 1, 14], vec ! [5, 2, 16, 1, 14])]\n",
      "    #[test_case(vec ! [3, 14, 12, 14, 3], vec ! [12, 0])]\n"
     ]
    }
   ],
   "source": [
    "F = GF(17)\n",
    "\n",
    "\n",
    "def my_vandermonde(points, ncols=None, ring=None):\n",
    "    # from https://ask.sagemath.org/question/47122/how-to-generate-a-nonsquare-vandermonde-matrix/?answer=47123#post-id-47123\n",
    "    # because sage does not have non-square matrices\n",
    "    def entries(i, j):\n",
    "        return points[i]**j\n",
    "    if ncols is None:\n",
    "        ncols = len(v)\n",
    "    return matrix(entries, nrows=len(points), ncols=ncols, ring=ring)\n",
    "\n",
    "\n",
    "def print_test_case_vandermonde_left_multiply(nrows, ncols):\n",
    "    \"\"\"\n",
    "    Generate a random test case for test_vandermonde_left_multiply in vandermonde.rs\n",
    "    nrows = number of points\n",
    "    ncols = number of cols in Vandermonde matrix\n",
    "    \"\"\"\n",
    "    points = [F.random_element() for i in range(nrows)]\n",
    "    vandermonde_mat = my_vandermonde(points, ncols, F)\n",
    "    vec = matrix.random(F, 1, nrows)\n",
    "    expected_res = vec * vandermonde_mat\n",
    "    \n",
    "    points_str = \", \".join(str(x) for x in points)\n",
    "    vec_str = \", \".join(str(x) for x in vec[0])\n",
    "    expected_res = \", \".join(str(x) for x in expected_res[0])\n",
    "    print(f\"    #[test_case(vec ! [{points_str}], vec ! [{vec_str}], vec ! [{expected_res}])]\")\n",
    "    \n",
    "    \n",
    "def print_test_case_small_vandermonde_left_multiply(nrows, ncols):\n",
    "    \"\"\"\n",
    "    Generate a random test case for test_vandermonde_left_multiply in vandermonde.rs\n",
    "    nrows = number of points\n",
    "    ncols = number of cols in Vandermonde matrix\n",
    "    \"\"\"\n",
    "    min_pt = -((nrows-1) // 2)\n",
    "    points = [F(min_pt+i) for i in range(nrows)]\n",
    "    vandermonde_mat = my_vandermonde(points, ncols, F)\n",
    "    vec = matrix.random(F, 1, nrows)\n",
    "    expected_res = vec * vandermonde_mat\n",
    "    \n",
    "    vec_str = \", \".join(str(x) for x in vec[0])\n",
    "    expected_res = \", \".join(str(x) for x in expected_res[0])\n",
    "    print(f\"    #[test_case(vec ! [{vec_str}], vec ! [{expected_res}])]\")\n",
    "\n",
    "    \n",
    "set_random_seed(0)\n",
    "    \n",
    "print_test_case_vandermonde_left_multiply(1, 2)\n",
    "print_test_case_vandermonde_left_multiply(1, 1)\n",
    "print_test_case_vandermonde_left_multiply(2, 3)\n",
    "print_test_case_vandermonde_left_multiply(2, 4)\n",
    "print_test_case_vandermonde_left_multiply(5, 2)\n",
    "print_test_case_vandermonde_left_multiply(5, 3)\n",
    "\n",
    "\n",
    "print()\n",
    "\n",
    "set_random_seed(0)\n",
    "\n",
    "print_test_case_small_vandermonde_left_multiply(1, 1)\n",
    "print_test_case_small_vandermonde_left_multiply(1, 2)\n",
    "print_test_case_small_vandermonde_left_multiply(1, 5)\n",
    "print_test_case_small_vandermonde_left_multiply(2, 1)\n",
    "print_test_case_small_vandermonde_left_multiply(2, 5)\n",
    "print_test_case_small_vandermonde_left_multiply(3, 5)\n",
    "print_test_case_small_vandermonde_left_multiply(4, 5)\n",
    "print_test_case_small_vandermonde_left_multiply(5, 2)\n",
    "\n"
   ]
  },
  {
   "cell_type": "code",
   "execution_count": 9,
   "id": "efb26ba6",
   "metadata": {},
   "outputs": [
    {
     "ename": "NameError",
     "evalue": "name 'vec' is not defined",
     "output_type": "error",
     "traceback": [
      "\u001b[0;31m---------------------------------------------------------------------------\u001b[0m",
      "\u001b[0;31mNameError\u001b[0m                                 Traceback (most recent call last)",
      "Cell \u001b[0;32mIn [9], line 1\u001b[0m\n\u001b[0;32m----> 1\u001b[0m [\u001b[38;5;28mstr\u001b[39m(x) \u001b[38;5;28;01mfor\u001b[39;00m x \u001b[38;5;129;01min\u001b[39;00m \u001b[43mvec\u001b[49m]\n",
      "\u001b[0;31mNameError\u001b[0m: name 'vec' is not defined"
     ]
    }
   ],
   "source": []
  },
  {
   "cell_type": "code",
   "execution_count": null,
   "id": "c30dc7ce",
   "metadata": {},
   "outputs": [],
   "source": []
  }
 ],
 "metadata": {
  "kernelspec": {
   "display_name": "SageMath 9.8",
   "language": "sage",
   "name": "sagemath-9.8"
  },
  "language_info": {
   "codemirror_mode": {
    "name": "ipython",
    "version": 3
   },
   "file_extension": ".py",
   "mimetype": "text/x-python",
   "name": "python",
   "nbconvert_exporter": "python",
   "pygments_lexer": "ipython3",
   "version": "3.11.1"
  }
 },
 "nbformat": 4,
 "nbformat_minor": 5
}
